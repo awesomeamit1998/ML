{
 "cells": [
  {
   "cell_type": "code",
   "execution_count": 1,
   "metadata": {},
   "outputs": [],
   "source": [
    "#Here scene is a variable containing the string of a scene :\n",
    "scene=\"SCENE 1: [wind] [clop clop clop] \\nKING ARTHUR: Whoa there!  [clop clop clop] \\nSOLDIER #1: Halt!  Who goes there?\\nARTHUR: It is I, Arthur, son of Uther Pendragon, from the castle of Camelot.  King of the Britons, defeator of the Saxons, sovereign of all England!\\nSOLDIER #1: Pull the other one!\\nARTHUR: I am, ...  and this is my trusty servant Patsy.  We have ridden the length and breadth of the land in search of knights who will join me in my court at Camelot.  I must speak with your lord and master.\\nSOLDIER #1: What?  Ridden on a horse?\\nARTHUR: Yes!\\nSOLDIER #1: You're using coconuts!\\nARTHUR: What?\\nSOLDIER #1: You've got two empty halves of coconut and you're bangin' 'em together.\\nARTHUR: So?  We have ridden since the snows of winter covered this land, through the kingdom of Mercea, through--\\nSOLDIER #1: Where'd you get the coconuts?\\nARTHUR: We found them.\\nSOLDIER #1: Found them?  In Mercea?  The coconut's tropical!\\nARTHUR: What do you mean?\\nSOLDIER #1: Well, this is a temperate zone.\\nARTHUR: The swallow may fly south with the sun or the house martin or the plover may seek warmer climes in winter, yet these are not strangers to our land?\\nSOLDIER #1: Are you suggesting coconuts migrate?\\nARTHUR: Not at all.  They could be carried.\\nSOLDIER #1: What?  A swallow carrying a coconut?\\nARTHUR: It could grip it by the husk!\\nSOLDIER #1: It's not a question of where he grips it!  It's a simple question of weight ratios!  A five ounce bird could not carry a one pound coconut.\\nARTHUR: Well, it doesn't matter.  Will you go and tell your master that Arthur from the Court of Camelot is here.\\nSOLDIER #1: Listen.  In order to maintain air-speed velocity, a swallow needs to beat its wings forty-three times every second, right?\\nARTHUR: Please!\\nSOLDIER #1: Am I right?\\nARTHUR: I'm not interested!\\nSOLDIER #2: It could be carried by an African swallow!\\nSOLDIER #1: Oh, yeah, an African swallow maybe, but not a European swallow.  That's my point.\\nSOLDIER #2: Oh, yeah, I agree with that.\\nARTHUR: Will you ask your master if he wants to join my court at Camelot?!\\nSOLDIER #1: But then of course a-- African swallows are non-migratory.\\nSOLDIER #2: Oh, yeah...\\nSOLDIER #1: So they couldn't bring a coconut back anyway...  [clop clop clop] \\nSOLDIER #2: Wait a minute!  Supposing two swallows carried it together?\\nSOLDIER #1: No, they'd have to have it on a line.\\nSOLDIER #2: Well, simple!  They'd just use a strand of creeper!\\nSOLDIER #1: What, held under the dorsal guiding feathers?\\nSOLDIER #2: Well, why not?\\n\""
   ]
  },
  {
   "cell_type": "code",
   "execution_count": 3,
   "metadata": {},
   "outputs": [],
   "source": [
    "#Tokenizers are used for splitting the string into smaller chunks\n",
    "from nltk.tokenize import word_tokenize\n",
    "from nltk.tokenize import sent_tokenize"
   ]
  },
  {
   "cell_type": "code",
   "execution_count": 8,
   "metadata": {},
   "outputs": [],
   "source": [
    "#storing the string in the form of words\n",
    "c=word_tokenize(scene)"
   ]
  },
  {
   "cell_type": "code",
   "execution_count": 5,
   "metadata": {},
   "outputs": [
    {
     "name": "stdout",
     "output_type": "stream",
     "text": [
      "[nltk_data] Downloading package punkt to C:\\Users\\Amit\n",
      "[nltk_data]     Jena\\AppData\\Roaming\\nltk_data...\n",
      "[nltk_data]   Unzipping tokenizers\\punkt.zip.\n"
     ]
    },
    {
     "data": {
      "text/plain": [
       "True"
      ]
     },
     "execution_count": 5,
     "metadata": {},
     "output_type": "execute_result"
    }
   ],
   "source": [
    "#Downloading the prerequisites\n",
    "import nltk\n",
    "nltk.download('punkt')"
   ]
  },
  {
   "cell_type": "code",
   "execution_count": 7,
   "metadata": {},
   "outputs": [
    {
     "data": {
      "text/plain": [
       "['SCENE 1: [wind] [clop clop clop] \\nKING ARTHUR: Whoa there!',\n",
       " '[clop clop clop] \\nSOLDIER #1: Halt!',\n",
       " 'Who goes there?',\n",
       " 'ARTHUR: It is I, Arthur, son of Uther Pendragon, from the castle of Camelot.',\n",
       " 'King of the Britons, defeator of the Saxons, sovereign of all England!',\n",
       " 'SOLDIER #1: Pull the other one!',\n",
       " 'ARTHUR: I am, ...  and this is my trusty servant Patsy.',\n",
       " 'We have ridden the length and breadth of the land in search of knights who will join me in my court at Camelot.',\n",
       " 'I must speak with your lord and master.',\n",
       " 'SOLDIER #1: What?',\n",
       " 'Ridden on a horse?',\n",
       " 'ARTHUR: Yes!',\n",
       " \"SOLDIER #1: You're using coconuts!\",\n",
       " 'ARTHUR: What?',\n",
       " \"SOLDIER #1: You've got two empty halves of coconut and you're bangin' 'em together.\",\n",
       " 'ARTHUR: So?',\n",
       " \"We have ridden since the snows of winter covered this land, through the kingdom of Mercea, through--\\nSOLDIER #1: Where'd you get the coconuts?\",\n",
       " 'ARTHUR: We found them.',\n",
       " 'SOLDIER #1: Found them?',\n",
       " 'In Mercea?',\n",
       " \"The coconut's tropical!\",\n",
       " 'ARTHUR: What do you mean?',\n",
       " 'SOLDIER #1: Well, this is a temperate zone.',\n",
       " 'ARTHUR: The swallow may fly south with the sun or the house martin or the plover may seek warmer climes in winter, yet these are not strangers to our land?',\n",
       " 'SOLDIER #1: Are you suggesting coconuts migrate?',\n",
       " 'ARTHUR: Not at all.',\n",
       " 'They could be carried.',\n",
       " 'SOLDIER #1: What?',\n",
       " 'A swallow carrying a coconut?',\n",
       " 'ARTHUR: It could grip it by the husk!',\n",
       " \"SOLDIER #1: It's not a question of where he grips it!\",\n",
       " \"It's a simple question of weight ratios!\",\n",
       " 'A five ounce bird could not carry a one pound coconut.',\n",
       " \"ARTHUR: Well, it doesn't matter.\",\n",
       " 'Will you go and tell your master that Arthur from the Court of Camelot is here.',\n",
       " 'SOLDIER #1: Listen.',\n",
       " 'In order to maintain air-speed velocity, a swallow needs to beat its wings forty-three times every second, right?',\n",
       " 'ARTHUR: Please!',\n",
       " 'SOLDIER #1: Am I right?',\n",
       " \"ARTHUR: I'm not interested!\",\n",
       " 'SOLDIER #2: It could be carried by an African swallow!',\n",
       " 'SOLDIER #1: Oh, yeah, an African swallow maybe, but not a European swallow.',\n",
       " \"That's my point.\",\n",
       " 'SOLDIER #2: Oh, yeah, I agree with that.',\n",
       " 'ARTHUR: Will you ask your master if he wants to join my court at Camelot?!',\n",
       " 'SOLDIER #1: But then of course a-- African swallows are non-migratory.',\n",
       " 'SOLDIER #2: Oh, yeah...',\n",
       " \"SOLDIER #1: So they couldn't bring a coconut back anyway...  [clop clop clop] \\nSOLDIER #2: Wait a minute!\",\n",
       " 'Supposing two swallows carried it together?',\n",
       " \"SOLDIER #1: No, they'd have to have it on a line.\",\n",
       " 'SOLDIER #2: Well, simple!',\n",
       " \"They'd just use a strand of creeper!\",\n",
       " 'SOLDIER #1: What, held under the dorsal guiding feathers?',\n",
       " 'SOLDIER #2: Well, why not?']"
      ]
     },
     "execution_count": 7,
     "metadata": {},
     "output_type": "execute_result"
    }
   ],
   "source": [
    "#Breaking the string into a list of sentence\n",
    "sent_tokenize(scene)"
   ]
  },
  {
   "cell_type": "code",
   "execution_count": 11,
   "metadata": {},
   "outputs": [],
   "source": [
    "import re"
   ]
  },
  {
   "cell_type": "code",
   "execution_count": 15,
   "metadata": {},
   "outputs": [
    {
     "data": {
      "text/plain": [
       "<_sre.SRE_Match object; span=(1791, 1801), match='interested'>"
      ]
     },
     "execution_count": 15,
     "metadata": {},
     "output_type": "execute_result"
    }
   ],
   "source": [
    "re.search(\"interested\",scene)"
   ]
  },
  {
   "cell_type": "code",
   "execution_count": 17,
   "metadata": {},
   "outputs": [
    {
     "name": "stdout",
     "output_type": "stream",
     "text": [
      "{':', 'south', 'wants', 'kingdom', 'creeper', 'son', 'through', 'defeator', 'ratios', 'I', 'found', 'could', 'That', 'its', 'Yes', 'Where', 'needs', 'bangin', \"'em\", 'wind', 'climes', 'So', 'We', 'at', 'mean', 'use', 'get', 'Not', 'Patsy', 'me', 'do', 'halves', 'land', 'with', 'Will', 'fly', 'anyway', 'this', ']', \"'ve\", 'In', 'England', 'other', \"'re\", 'together', 'European', 'two', 'my', 'where', 'here', 'strand', 'Whoa', 'right', 'strangers', 'to', 'air-speed', 'yeah', 'But', 'feathers', 'carrying', 'that', 'using', 'knights', 'Court', 'every', 'coconuts', 'coconut', 'beat', 'join', 'sun', 'a', 'under', 'Halt', 'five', 'husk', 'who', 'court', 'snows', 'The', '!', 'will', 'our', 'Arthur', 'swallow', 'SOLDIER', 'Camelot', 'Am', 'Who', 'suggesting', 'then', 'but', 'dorsal', 'there', 'must', 'non-migratory', 'by', '.', 'pound', 'interested', 'maybe', 'Supposing', 'Pull', '--', 'empty', 'have', 'if', 'simple', '#', 'sovereign', 'martin', 'length', 'back', 'the', 'Wait', \"'\", \"'d\", 'grip', 'goes', 'does', 'you', \"n't\", 'You', 'in', 'African', 'guiding', '1', 'lord', 'Well', 'ounce', '2', 'warmer', 'zone', 'Uther', 'times', 'trusty', 'bring', 'yet', 'on', 'are', \"'m\", 'agree', 'since', 'master', 'migrate', 'winter', 'he', 'search', 'they', 'got', 'order', 'line', 'am', 'held', 'KING', 'Britons', 'carried', 'tell', 'from', 'seek', 'bird', 'velocity', '[', 'course', 'minute', 'and', 'Pendragon', 'SCENE', 'not', 'go', 'forty-three', 'Please', 'point', 'It', 'plover', 'them', 'They', 'breadth', 'ARTHUR', 'tropical', 'question', 'grips', 'Oh', 'A', 'an', 'swallows', 'your', 'servant', 'house', 'speak', 'ridden', 'all', 'wings', 'or', 'ask', ',', 'why', 'maintain', 'Found', 'is', 'one', '?', '...', 'weight', 'be', 'Are', 'Ridden', 'may', 'castle', 'King', 'Mercea', 'Saxons', 'clop', \"'s\", 'matter', 'just', 'it', 'No', 'horse', 'Listen', 'carry', 'of', 'second', 'temperate', 'covered', 'these', 'What'}\n"
     ]
    }
   ],
   "source": [
    "# Make a set of unique tokens in the entire scene: unique_tokens\n",
    "unique_tokens =set(word_tokenize(scene))\n",
    "\n",
    "# Print the unique tokens result\n",
    "print(unique_tokens)"
   ]
  },
  {
   "cell_type": "code",
   "execution_count": 19,
   "metadata": {},
   "outputs": [
    {
     "name": "stdout",
     "output_type": "stream",
     "text": [
      "{':', 'south', 'wants', 'kingdom', 'creeper', 'son', 'through', 'defeator', 'ratios', 'I', 'found', 'could', 'That', 'its', 'Yes', 'Where', 'needs', 'bangin', \"'em\", 'wind', 'climes', 'So', 'We', 'at', 'mean', 'use', 'get', 'Not', 'Patsy', 'me', 'do', 'halves', 'land', 'with', 'Will', 'fly', 'anyway', 'this', ']', \"'ve\", 'In', 'England', 'other', \"'re\", 'together', 'European', 'two', 'my', 'where', 'here', 'strand', 'Whoa', 'right', 'strangers', 'to', 'air-speed', 'yeah', 'But', 'feathers', 'carrying', 'that', 'using', 'knights', 'Court', 'every', 'coconuts', 'coconut', 'beat', 'join', 'sun', 'a', 'under', 'Halt', 'five', 'husk', 'who', 'court', 'snows', 'The', '!', 'will', 'our', 'Arthur', 'swallow', 'SOLDIER', 'Camelot', 'Am', 'Who', 'suggesting', 'then', 'but', 'dorsal', 'there', 'must', 'non-migratory', 'by', '.', 'pound', 'interested', 'maybe', 'Supposing', 'Pull', '--', 'empty', 'have', 'if', 'simple', '#', 'sovereign', 'martin', 'length', 'back', 'the', 'Wait', \"'\", \"'d\", 'grip', 'goes', 'does', 'you', \"n't\", 'You', 'in', 'African', 'guiding', '1', 'lord', 'Well', 'ounce', '2', 'warmer', 'zone', 'Uther', 'times', 'trusty', 'bring', 'yet', 'on', 'are', \"'m\", 'agree', 'since', 'master', 'migrate', 'winter', 'he', 'search', 'they', 'got', 'order', 'line', 'am', 'held', 'KING', 'Britons', 'carried', 'tell', 'from', 'seek', 'bird', 'velocity', '[', 'course', 'minute', 'and', 'Pendragon', 'SCENE', 'not', 'go', 'forty-three', 'Please', 'point', 'It', 'plover', 'them', 'They', 'breadth', 'ARTHUR', 'tropical', 'question', 'grips', 'Oh', 'A', 'an', 'swallows', 'your', 'servant', 'house', 'speak', 'ridden', 'all', 'wings', 'or', 'ask', ',', 'why', 'maintain', 'Found', 'is', 'one', '?', '...', 'weight', 'be', 'Are', 'Ridden', 'may', 'castle', 'King', 'Mercea', 'Saxons', 'clop', \"'s\", 'matter', 'just', 'it', 'No', 'horse', 'Listen', 'carry', 'of', 'second', 'temperate', 'covered', 'these', 'What'}\n"
     ]
    }
   ],
   "source": [
    "# Import necessary modules\n",
    "from nltk.tokenize import word_tokenize\n",
    "from nltk.tokenize import sent_tokenize\n",
    "\n",
    "# Split scene_one into sentences: sentences\n",
    "sentences = sent_tokenize(scene)\n",
    "\n",
    "# Use word_tokenize to tokenize the fourth sentence: tokenized_sent\n",
    "tokenized_sent = word_tokenize(sentences[3])\n",
    "\n",
    "# Make a set of unique tokens in the entire scene: unique_tokens\n",
    "unique_tokens = set(word_tokenize(scene))\n",
    "\n",
    "# Print the unique tokens result\n",
    "print(unique_tokens)"
   ]
  },
  {
   "cell_type": "code",
   "execution_count": 22,
   "metadata": {},
   "outputs": [
    {
     "name": "stdout",
     "output_type": "stream",
     "text": [
      "580 588\n",
      "<_sre.SRE_Match object; span=(9, 32), match='[wind] [clop clop clop]'>\n",
      "<_sre.SRE_Match object; span=(0, 7), match='ARTHUR:'>\n"
     ]
    }
   ],
   "source": [
    "\n",
    "# Search for the first occurrence of \"coconuts\" in scene_one: match\n",
    "match = re.search(\"coconuts\", scene)\n",
    "\n",
    "# Print the start and end indexes of match\n",
    "print(match.start(), match.end())\n",
    "\n",
    "# Write a regular expression to search for anything in square brackets: pattern1\n",
    "pattern1 = r\"\\[.*\\]\"\n",
    "\n",
    "# Use re.search to find the first text in square brackets\n",
    "print(re.search(pattern1, scene))\n",
    "\n",
    "# Find the script notation at the beginning of the fourth sentence and print it\n",
    "pattern2 = r\"[\\w\\s]+:\"\n",
    "print(re.match(pattern2, sentences[3]))"
   ]
  },
  {
   "cell_type": "code",
   "execution_count": 49,
   "metadata": {},
   "outputs": [
    {
     "name": "stdout",
     "output_type": "stream",
     "text": [
      "<_sre.SRE_Match object; span=(0, 76), match='ARTHUR: It is I, Arthur, son of Uther Pendragon, >\n"
     ]
    }
   ],
   "source": [
    "#words in a sentence with pattern with symbols\n",
    "p3=r\".*\"\n",
    "print(re.search(p3,sentences[3]))"
   ]
  },
  {
   "cell_type": "code",
   "execution_count": 72,
   "metadata": {},
   "outputs": [
    {
     "name": "stdout",
     "output_type": "stream",
     "text": [
      "['1', '1', '1', '1', '1', '1', '1', '1', '1', '1', '1', '1', '1', '1', '2', '1', '2', '1', '2', '1', '2', '1', '2', '1', '2']\n"
     ]
    }
   ],
   "source": [
    "#Finding all the numbers in the string\n",
    "p4=r\"\\d\"\n",
    "print(re.findall(p4,scene))"
   ]
  },
  {
   "cell_type": "code",
   "execution_count": null,
   "metadata": {},
   "outputs": [],
   "source": []
  }
 ],
 "metadata": {
  "kernelspec": {
   "display_name": "Python 3",
   "language": "python",
   "name": "python3"
  },
  "language_info": {
   "codemirror_mode": {
    "name": "ipython",
    "version": 3
   },
   "file_extension": ".py",
   "mimetype": "text/x-python",
   "name": "python",
   "nbconvert_exporter": "python",
   "pygments_lexer": "ipython3",
   "version": "3.6.4"
  }
 },
 "nbformat": 4,
 "nbformat_minor": 2
}
